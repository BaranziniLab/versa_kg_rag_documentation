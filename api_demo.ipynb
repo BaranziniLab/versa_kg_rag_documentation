{
 "cells": [
  {
   "cell_type": "markdown",
   "id": "5ce58127-bd1b-4f00-9365-b0f6ba1aea53",
   "metadata": {},
   "source": [
    "## Import Libraries"
   ]
  },
  {
   "cell_type": "code",
   "execution_count": 10,
   "id": "e1a5388b-0701-477b-87cf-e591382f2a02",
   "metadata": {},
   "outputs": [],
   "source": [
    "\n",
    "import requests\n"
   ]
  },
  {
   "cell_type": "markdown",
   "id": "9796f3e9-f273-4085-9848-3dc52632314c",
   "metadata": {},
   "source": [
    "## API Base URI"
   ]
  },
  {
   "cell_type": "code",
   "execution_count": 11,
   "id": "b1bd78ee-40b6-4e40-b9bf-634eddf15000",
   "metadata": {},
   "outputs": [],
   "source": [
    "\n",
    "base_uri = \"https://spoke.rbvi.ucsf.edu/api/\"\n"
   ]
  },
  {
   "cell_type": "markdown",
   "id": "d42cefd9-ea47-4ef9-82d7-53370e6235b6",
   "metadata": {},
   "source": [
    "## API Endpoint"
   ]
  },
  {
   "cell_type": "code",
   "execution_count": 12,
   "id": "59fb2b6b-dc04-45a8-bb0a-37911c952984",
   "metadata": {},
   "outputs": [],
   "source": [
    "\n",
    "endpoint = \"v1/kg_rag_context_extended\"\n",
    "uri = base_uri + endpoint\n"
   ]
  },
  {
   "cell_type": "markdown",
   "id": "8015b033-aa74-4f2c-9749-3dbf73069a03",
   "metadata": {},
   "source": [
    "## API parameters"
   ]
  },
  {
   "cell_type": "code",
   "execution_count": 13,
   "id": "bc71456f-fee3-4f1c-9221-e20da6613c5c",
   "metadata": {},
   "outputs": [],
   "source": [
    "\n",
    "search_depth = 1\n",
    "edge_evidence = False\n"
   ]
  },
  {
   "cell_type": "markdown",
   "id": "d1c20441-fa74-484b-a519-35b48d9f26ab",
   "metadata": {},
   "source": [
    "## User query"
   ]
  },
  {
   "cell_type": "code",
   "execution_count": 14,
   "id": "31529d8f-5dc9-4c1b-9fe5-2cf16bb034d7",
   "metadata": {},
   "outputs": [],
   "source": [
    "\n",
    "query = \"What are the sideffects of metformin?\"\n"
   ]
  },
  {
   "cell_type": "markdown",
   "id": "2324becc-5fc3-4e31-98f2-5fb7773ae09d",
   "metadata": {},
   "source": [
    "## Run API call"
   ]
  },
  {
   "cell_type": "code",
   "execution_count": 15,
   "id": "8a5ada8d-b4f7-4c1e-8c37-c77cbda45a10",
   "metadata": {},
   "outputs": [
    {
     "name": "stdout",
     "output_type": "stream",
     "text": [
      "{'context': 'Compound Metformin causes SideEffect Drowsiness and Provenance of this association is SIDER 4.1.. Compound Metformin causes SideEffect Tonsillitis and Provenance of this association is SIDER 4.1.. Compound Metformin causes SideEffect Loose stools and Provenance of this association is SIDER 4.1.. Compound Metformin causes SideEffect Cramp muscle and Provenance of this association is SIDER 4.1... Compound Metformin causes SideEffect Dyspepsia and Provenance of this association is SIDER 4.1.. Compound Metformin causes SideEffect Lethargy and Provenance of this association is SIDER 4.1.. Compound Metformin causes SideEffect Acetonaemia and Provenance of this association is SIDER 4.1.. Compound Metformin causes SideEffect Nasopharyngitis and Provenance of this association is SIDER 4.1.. Compound Metformin causes SideEffect Flatulence and Provenance of this association is SIDER 4.1.. Compound Metformin causes SideEffect Tremor and Provenance of this association is SIDER 4.1.. Compound Metformin causes SideEffect Somnolence and Provenance of this association is SIDER 4.1.. Compound Metformin causes SideEffect Eye disorder and Provenance of this association is SIDER 4.1.. Compound Metformin causes SideEffect Anaemia megaloblastic and Provenance of this association is SIDER 4.1.. Compound Metformin causes SideEffect Musculoskeletal discomfort and Provenance of this association is SIDER 4.1.. Compound Metformin causes SideEffect Decreased appetite and Provenance of this association is SIDER 4.1.. Compound Metformin causes SideEffect Neuropathy peripheral and Provenance of this association is SIDER 4.1.. Compound Metformin causes SideEffect Nervous system disorder and Provenance of this association is SIDER 4.1.. Compound Metformin causes SideEffect Immune system disorder and Provenance of this association is SIDER 4.1.. Compound Metformin causes SideEffect Blood disorder and Provenance of this association is SIDER 4.1.. Compound Metformin causes SideEffect Ketonemia and Provenance of this association is SIDER 4.1.. Compound Metformin causes SideEffect Vitamin B12 deficiency and Provenance of this association is SIDER 4.1.. Compound Metformin causes SideEffect Function kidney decreased and Provenance of this association is SIDER 4.1.. Compound Metformin causes SideEffect Chest discomfort and Provenance of this association is SIDER 4.1.. Compound Metformin causes SideEffect Breast disorder and Provenance of this association is SIDER 4.1.. Compound Metformin causes SideEffect Chills and Provenance of this association is SIDER 4.1.. Compound Metformin causes SideEffect Muscle spasms and Provenance of this association is SIDER 4.1.. Compound Metformin causes SideEffect Taste metallic and Provenance of this association is SIDER 4.1.. Compound Metformin causes SideEffect Emotional distress and Provenance of this association is SIDER 4.1.. Compound Metformin causes SideEffect Angina unstable and Provenance of this association is SIDER 4.1.. Compound Metformin causes SideEffect Hypoglycaemia and Provenance of this association is SIDER 4.1.. Compound Metformin causes SideEffect Dermatitis and Provenance of this association is SIDER 4.1.. Compound Metformin causes SideEffect Abnormal faeces and Provenance of this association is SIDER 4.1.. Compound Metformin causes SideEffect Rhinorrhoea and Provenance of this association is SIDER 4.1.. Compound Metformin causes SideEffect Upper respiratory tract infection and Provenance of this association is SIDER 4.1.. Compound Metformin causes SideEffect Nasal congestion and Provenance of this association is SIDER 4.1.. Compound Metformin causes SideEffect Gastrointestinal symptom NOS and Provenance of this association is SIDER 4.1.. Compound Metformin causes SideEffect Gastrointestinal pain and Provenance of this association is SIDER 4.1.. Compound Metformin causes SideEffect Abdominal distension and Provenance of this association is SIDER 4.1.. Compound Metformin causes SideEffect Muscle strain and Provenance of this association is SIDER 4.1.. Compound Metformin causes SideEffect Neuropathy and Provenance of this association is SIDER 4.1.. Compound Metformin causes SideEffect Dyspnoea and Provenance of this association is SIDER 4.1.. Compound Metformin causes SideEffect Body temperature decreased and Provenance of this association is SIDER 4.1.. Compound Metformin causes SideEffect Skin disorder and Provenance of this association is SIDER 4.1.. Compound Metformin causes SideEffect Paraesthesia and Provenance of this association is SIDER 4.1.. Compound Metformin causes SideEffect Erythema and Provenance of this association is SIDER 4.1.. Compound Metformin causes SideEffect Chest pain and Provenance of this association is SIDER 4.1.. Compound Metformin causes SideEffect Sinus congestion and Provenance of this association is SIDER 4.1.. Compound Metformin causes SideEffect Viral diarrhoea and Provenance of this association is SIDER 4.1.. Compound Metformin causes SideEffect Injury and Provenance of this association is SIDER 4.1... Compound Metformin causes SideEffect Liver function test abnormal and Provenance of this association is SIDER 4.1.. Compound Metformin causes SideEffect Contusion and Provenance of this association is SIDER 4.1.. Compound Metformin causes SideEffect Abdominal pain upper and Provenance of this association is SIDER 4.1.. Compound Metformin causes SideEffect Vision blurred and Provenance of this association is SIDER 4.1.. Compound Metformin causes SideEffect Asthenia and Provenance of this association is SIDER 4.1.. Compound Metformin causes SideEffect Nail disorder and Provenance of this association is SIDER 4.1.. Compound Metformin causes SideEffect Infection and Provenance of this association is SIDER 4.1.. Compound Metformin causes SideEffect Azotaemia and Provenance of this association is SIDER 4.1.. Compound Metformin causes SideEffect Gastrointestinal disorder and Provenance of this association is SIDER 4.1.. Compound Metformin causes SideEffect Vomiting and Provenance of this association is SIDER 4.1.. Compound Metformin causes SideEffect Distention and Provenance of this association is SIDER 4.1.. Compound Metformin causes SideEffect Oedema aggravated and Provenance of this association is SIDER 4.1.. Compound Metformin causes SideEffect Hypertension and Provenance of this association is SIDER 4.1.. Compound Metformin causes SideEffect Hypoaesthesia and Provenance of this association is SIDER 4.1.. Compound Metformin causes SideEffect Loss of consciousness and Provenance of this association is SIDER 4.1.. Compound Metformin causes SideEffect Ill-defined disorder and Provenance of this association is SIDER 4.1.. Compound Metformin causes SideEffect Migraine and Provenance of this association is SIDER 4.1.. Compound Metformin causes SideEffect Acute prerenal failure and Provenance of this association is SIDER 4.1.. Compound Metformin causes SideEffect Infestation and Provenance of this association is SIDER 4.1.. Compound Metformin causes SideEffect Gastrointestinal tract irritation and Provenance of this association is SIDER 4.1.. Compound Metformin causes SideEffect Abdominal pain and Provenance of this association is SIDER 4.1.. Compound Metformin causes SideEffect Appetite absent and Provenance of this association is SIDER 4.1.. Compound Metformin causes SideEffect Fatigue and Provenance of this association is SIDER 4.1.. Compound Metformin causes SideEffect Sinus headache and Provenance of this association is SIDER 4.1.. Compound Metformin causes SideEffect Abdominal discomfort and Provenance of this association is SIDER 4.1.. Compound Metformin causes SideEffect Urticaria and Provenance of this association is SIDER 4.1.. Compound Metformin causes SideEffect Rigors and Provenance of this association is SIDER 4.1.. Compound Metformin causes SideEffect Renal impairment and Provenance of this association is SIDER 4.1.. Compound Metformin causes SideEffect Myalgia and Provenance of this association is SIDER 4.1.. Compound Metformin causes SideEffect Rhinitis and Provenance of this association is SIDER 4.1.. Compound Metformin causes SideEffect Pain in extremity and Provenance of this association is SIDER 4.1.. Compound Metformin causes SideEffect Pruritus and Provenance of this association is SIDER 4.1.. Compound Metformin causes SideEffect Angiopathy and Provenance of this association is SIDER 4.1.. Compound Metformin causes SideEffect Syncope and Provenance of this association is SIDER 4.1.. Compound Metformin causes SideEffect Hypotension and Provenance of this association is SIDER 4.1.. Compound Metformin causes SideEffect Sweating increased and Provenance of this association is SIDER 4.1.. Compound Metformin causes SideEffect Palpitations and Provenance of this association is SIDER 4.1.. Compound Metformin causes SideEffect Ear pain and Provenance of this association is SIDER 4.1.. Compound Metformin causes SideEffect Dehydration and Provenance of this association is SIDER 4.1.. Compound Metformin causes SideEffect Rash and Provenance of this association is SIDER 4.1.. Compound Metformin causes SideEffect Abdominal bloating and Provenance of this association is SIDER 4.1.. Compound Metformin causes SideEffect Mediastinal disorder and Provenance of this association is SIDER 4.1.. Compound Metformin causes SideEffect Azotemia prerenal and Provenance of this association is SIDER 4.1.. Compound Metformin causes SideEffect Hyperhidrosis and Provenance of this association is SIDER 4.1.. Compound Metformin causes SideEffect Diarrhoea and Provenance of this association is SIDER 4.1... Compound Metformin causes SideEffect Tooth abscess and Provenance of this association is SIDER 4.1.. Compound Metformin causes SideEffect Malaise and Provenance of this association is SIDER 4.1.. Compound Metformin causes SideEffect Accidental injury and Provenance of this association is SIDER 4.1.. Compound Metformin causes SideEffect Seasonal allergy and Provenance of this association is SIDER 4.1.. Compound Metformin causes SideEffect Heartburn and Provenance of this association is SIDER 4.1.. Compound Metformin causes SideEffect Dysgeusia and Provenance of this association is SIDER 4.1.. Compound Metformin causes SideEffect Hypothermia and Provenance of this association is SIDER 4.1.. Compound Metformin causes SideEffect Influenza and Provenance of this association is SIDER 4.1.. Compound Metformin causes SideEffect Cardiac disorder and Provenance of this association is SIDER 4.1.. Compound Metformin causes SideEffect Oedema and Provenance of this association is SIDER 4.1.. Compound Metformin causes SideEffect Angina pectoris and Provenance of this association is SIDER 4.1.. Compound Metformin causes SideEffect Connective tissue disorder and Provenance of this association is SIDER 4.1.. Compound Metformin causes SideEffect Abdominal distress and Provenance of this association is SIDER 4.1.. Compound Metformin causes SideEffect Bradycardia and Provenance of this association is SIDER 4.1.. Compound Metformin causes SideEffect Dizziness and Provenance of this association is SIDER 4.1.. Compound Metformin causes SideEffect Acidosis and Provenance of this association is SIDER 4.1.. Compound Metformin causes SideEffect Constipation and Provenance of this association is SIDER 4.1.. Compound Metformin causes SideEffect Epigastric discomfort and Provenance of this association is SIDER 4.1.. Compound Metformin causes SideEffect Flushing and Provenance of this association is SIDER 4.1.. Compound Metformin causes SideEffect Ketoacidosis and Provenance of this association is SIDER 4.1.. Compound Metformin causes SideEffect Respiratory distress and Provenance of this association is SIDER 4.1.. Compound Metformin causes SideEffect Anorexia and Provenance of this association is SIDER 4.1.. Compound Metformin causes SideEffect Pancreatitis and Provenance of this association is SIDER 4.1.. Compound Metformin causes SideEffect Shock and Provenance of this association is SIDER 4.1.. Compound Metformin causes SideEffect White blood cell count increased and Provenance of this association is SIDER 4.1.. Compound Metformin causes SideEffect Thrombocytopenia and Provenance of this association is SIDER 4.1.. Compound Metformin causes SideEffect Discomfort and Provenance of this association is SIDER 4.1.. Compound Metformin causes SideEffect Lightheadedness and Provenance of this association is SIDER 4.1.. Compound Metformin causes SideEffect Neutropenia and Provenance of this association is SIDER 4.1.. Compound Metformin causes SideEffect Nausea and Provenance of this association is SIDER 4.1.. Compound Metformin causes SideEffect Unspecified disorder of skin and subcutaneous tissue and Provenance of this association is SIDER 4.1.. Compound Metformin causes SideEffect Reaction gastrointestinal and Provenance of this association is SIDER 4.1.. Compound Metformin causes SideEffect Fungal infection and Provenance of this association is SIDER 4.1.. Compound Metformin causes SideEffect Vitamin B12 absorption decreased and Provenance of this association is SIDER 4.1.. Compound Metformin causes SideEffect Upset stomach and Provenance of this association is SIDER 4.1.. Compound Metformin causes SideEffect Rhinitis seasonal and Provenance of this association is SIDER 4.1.. Compound Metformin causes SideEffect Toothache and Provenance of this association is SIDER 4.1.. Compound Metformin causes SideEffect Feeling abnormal and Provenance of this association is SIDER 4.1.. Compound Metformin causes SideEffect Oedema peripheral and Provenance of this association is SIDER 4.1.. Compound Metformin causes SideEffect Hepatitis and Provenance of this association is SIDER 4.1.. Compound Metformin causes SideEffect Ketonuria and Provenance of this association is SIDER 4.1.. Compound Metformin causes SideEffect Infestation NOS and Provenance of this association is SIDER 4.1.. Compound Metformin causes SideEffect Malnutrition and Provenance of this association is SIDER 4.1.. Compound Metformin causes SideEffect Headache and Provenance of this association is SIDER 4.1.. Compound Metformin causes SideEffect Hepatobiliary disease and Provenance of this association is SIDER 4.1... ', 'query': 'What are the sideffects of metformin?', 'nodes': [['Metformin', 'Compound']], 'search_depth': 1, 'edge_evidence': False}\n",
      "CPU times: user 20.7 ms, sys: 10.9 ms, total: 31.6 ms\n",
      "Wall time: 17.9 s\n"
     ]
    }
   ],
   "source": [
    "%%time\n",
    "\n",
    "params = {\n",
    "    \"query\": query,\n",
    "    \"search_depth\": search_depth,\n",
    "    \"edge_evidence\": edge_evidence\n",
    "}\n",
    "\n",
    "response = requests.get(uri, params=params)\n",
    "print(response.json())\n"
   ]
  },
  {
   "cell_type": "code",
   "execution_count": null,
   "id": "31fe79ef-18c2-40f1-984a-5e86e3e08d0e",
   "metadata": {},
   "outputs": [],
   "source": []
  }
 ],
 "metadata": {
  "kernelspec": {
   "display_name": "Python 3 (ipykernel)",
   "language": "python",
   "name": "python3"
  },
  "language_info": {
   "codemirror_mode": {
    "name": "ipython",
    "version": 3
   },
   "file_extension": ".py",
   "mimetype": "text/x-python",
   "name": "python",
   "nbconvert_exporter": "python",
   "pygments_lexer": "ipython3",
   "version": "3.10.9"
  }
 },
 "nbformat": 4,
 "nbformat_minor": 5
}
